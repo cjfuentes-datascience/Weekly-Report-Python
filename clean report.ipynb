{
 "cells": [
  {
   "cell_type": "code",
   "execution_count": 1,
   "metadata": {},
   "outputs": [],
   "source": [
    "import pandas as pd"
   ]
  },
  {
   "cell_type": "code",
   "execution_count": 2,
   "metadata": {},
   "outputs": [],
   "source": [
    "last_week = pd.read_excel(r\"C:\\Users\\pa173\\Documents\\SQL Excel Extracts\\Weekly Producer\\January\\Jan 15 - Jan 21 2023.xlsx\", sheet='Export Worksheet', index=False)"
   ]
  },
  {
   "cell_type": "code",
   "execution_count": 3,
   "metadata": {},
   "outputs": [],
   "source": [
    "all_parent = pd.read_excel(r\"C:\\Users\\pa173\\Documents\\Communications\\All Producer with Parent Rollup.xlsx\", index=False)"
   ]
  },
  {
   "cell_type": "code",
   "execution_count": 4,
   "metadata": {},
   "outputs": [],
   "source": [
    "rank_list = pd.read_excel(r\"C:\\Users\\pa173\\Documents\\Communications\\Wkly Working - Rank and List.xlsx\", index=False)"
   ]
  },
  {
   "cell_type": "code",
   "execution_count": 5,
   "metadata": {},
   "outputs": [],
   "source": [
    "last_report = pd.read_excel(r\"C:\\Users\\pa173\\Documents\\Communications\\Weekly NB and RW Apps and FQ.xlsx\", sheet_name='By Producer Weekly Counts', index=False, skiprows= 9)\n",
    "last_report = last_report.drop(index=0)"
   ]
  },
  {
   "cell_type": "code",
   "execution_count": 6,
   "metadata": {},
   "outputs": [],
   "source": [
    "nb_rw_pivot = pd.read_excel(r\"C:\\Users\\pa173\\Documents\\Communications\\Weekly NB and RW Apps and FQ.xlsx\", sheet_name='Pivot', index=False, skiprows= 6)"
   ]
  },
  {
   "cell_type": "code",
   "execution_count": 7,
   "metadata": {},
   "outputs": [],
   "source": [
    "def modify_cols(df):\n",
    "    df.columns=df.columns.str.lower()\n",
    "    df.columns=df.columns.str.strip()\n",
    "    df.columns=df.columns.str.replace(\" \", \"_\")\n",
    "    return df\n"
   ]
  },
  {
   "cell_type": "code",
   "execution_count": 8,
   "metadata": {},
   "outputs": [],
   "source": [
    "last_week=modify_cols(last_week)\n",
    "all_parent=modify_cols(all_parent)\n",
    "rank_list=modify_cols(rank_list)\n",
    "last_report=modify_cols(last_report)\n",
    "nb_rw_pivot=modify_cols(nb_rw_pivot)"
   ]
  },
  {
   "attachments": {},
   "cell_type": "markdown",
   "metadata": {},
   "source": [
    "merging last weeks data with all producers"
   ]
  },
  {
   "cell_type": "code",
   "execution_count": 9,
   "metadata": {},
   "outputs": [],
   "source": [
    "parent_week=pd.merge(left=last_week, right=all_parent, left_on='sub_business_unit_number', right_on='business_unit_number', how='left')"
   ]
  },
  {
   "cell_type": "code",
   "execution_count": 10,
   "metadata": {},
   "outputs": [
    {
     "data": {
      "text/plain": [
       "(471, 15)"
      ]
     },
     "execution_count": 10,
     "metadata": {},
     "output_type": "execute_result"
    }
   ],
   "source": [
    "parent_week.shape"
   ]
  },
  {
   "cell_type": "code",
   "execution_count": 11,
   "metadata": {},
   "outputs": [],
   "source": [
    "producer_pivot=parent_week.pivot_table(index=['parent_name'], values=['count(*)'], aggfunc='sum')\n",
    "#producer_pivot = parent_week.pivot_table(index='parent_name', values='count(*)', columns=['parent_name','count(*)'], aggfunc='sum').sort_values(['count(*)'], ascending=False)"
   ]
  },
  {
   "cell_type": "code",
   "execution_count": 12,
   "metadata": {},
   "outputs": [
    {
     "data": {
      "text/plain": [
       "(457, 1)"
      ]
     },
     "execution_count": 12,
     "metadata": {},
     "output_type": "execute_result"
    }
   ],
   "source": [
    "producer_pivot.shape"
   ]
  },
  {
   "cell_type": "code",
   "execution_count": 13,
   "metadata": {},
   "outputs": [
    {
     "data": {
      "text/plain": [
       "(1012, 3)"
      ]
     },
     "execution_count": 13,
     "metadata": {},
     "output_type": "execute_result"
    }
   ],
   "source": [
    "rank_list.shape"
   ]
  },
  {
   "attachments": {},
   "cell_type": "markdown",
   "metadata": {},
   "source": [
    "let's merge our producer pivot table with the weekly rank"
   ]
  },
  {
   "cell_type": "code",
   "execution_count": 14,
   "metadata": {},
   "outputs": [],
   "source": [
    "producer_rank=pd.merge(left=producer_pivot, right=rank_list, left_on='parent_name', right_on='producer', how='left')"
   ]
  },
  {
   "cell_type": "code",
   "execution_count": 15,
   "metadata": {},
   "outputs": [
    {
     "data": {
      "text/plain": [
       "(457, 4)"
      ]
     },
     "execution_count": 15,
     "metadata": {},
     "output_type": "execute_result"
    }
   ],
   "source": [
    "producer_rank.shape"
   ]
  },
  {
   "attachments": {},
   "cell_type": "markdown",
   "metadata": {},
   "source": [
    "cleaning nb and rw pivots"
   ]
  },
  {
   "cell_type": "code",
   "execution_count": 16,
   "metadata": {},
   "outputs": [],
   "source": [
    "nb_pivot = nb_rw_pivot[['row_labels', 'unnamed:_8']]\n",
    "nb_pivot=nb_pivot.rename(columns={'row_labels':'nb_labels','unnamed:_8':'nb_total'})"
   ]
  },
  {
   "cell_type": "code",
   "execution_count": 17,
   "metadata": {},
   "outputs": [],
   "source": [
    "rw_pivot = nb_rw_pivot[['row_labels.1', 'unnamed:_19']]\n",
    "rw_pivot=rw_pivot.rename(columns={'row_labels.1':'rw_labels','unnamed:_19':'rw_total'})\n",
    "rw_pivot=rw_pivot.dropna()"
   ]
  },
  {
   "cell_type": "code",
   "execution_count": 18,
   "metadata": {},
   "outputs": [
    {
     "data": {
      "text/plain": [
       "((205, 2), (104, 2))"
      ]
     },
     "execution_count": 18,
     "metadata": {},
     "output_type": "execute_result"
    }
   ],
   "source": [
    "nb_pivot.shape, rw_pivot.shape"
   ]
  },
  {
   "attachments": {},
   "cell_type": "markdown",
   "metadata": {},
   "source": [
    "clean last weeks report"
   ]
  },
  {
   "cell_type": "code",
   "execution_count": 19,
   "metadata": {},
   "outputs": [],
   "source": [
    "last_report = last_report.iloc[:, 1:17]\n",
    "last_report.iloc[:,4:16] = last_report.iloc[:, 4:16].apply(pd.to_numeric)\n",
    "last_report= last_report.rename(columns = {'weekly_counts_by_week': 'producer'})"
   ]
  },
  {
   "attachments": {},
   "cell_type": "markdown",
   "metadata": {},
   "source": [
    "merge parent pivot with last weeks report"
   ]
  },
  {
   "cell_type": "code",
   "execution_count": 20,
   "metadata": {},
   "outputs": [],
   "source": [
    "new_report=pd.merge(last_report, producer_rank, left_on='producer', right_on='producer', how='left')"
   ]
  },
  {
   "cell_type": "code",
   "execution_count": 21,
   "metadata": {},
   "outputs": [
    {
     "data": {
      "text/plain": [
       "(1015, 19)"
      ]
     },
     "execution_count": 21,
     "metadata": {},
     "output_type": "execute_result"
    }
   ],
   "source": [
    "new_report.shape"
   ]
  },
  {
   "attachments": {},
   "cell_type": "markdown",
   "metadata": {},
   "source": [
    "merge new report with nb and rw tables"
   ]
  },
  {
   "cell_type": "code",
   "execution_count": 22,
   "metadata": {},
   "outputs": [],
   "source": [
    "new_report=pd.merge(new_report, nb_pivot, left_on='producer', right_on='nb_labels', how='left')"
   ]
  },
  {
   "cell_type": "code",
   "execution_count": 23,
   "metadata": {},
   "outputs": [
    {
     "data": {
      "text/plain": [
       "(1015, 21)"
      ]
     },
     "execution_count": 23,
     "metadata": {},
     "output_type": "execute_result"
    }
   ],
   "source": [
    "new_report.shape"
   ]
  },
  {
   "cell_type": "code",
   "execution_count": 24,
   "metadata": {},
   "outputs": [],
   "source": [
    "new_report=pd.merge(new_report, rw_pivot, left_on='producer', right_on='rw_labels', how='left')"
   ]
  },
  {
   "cell_type": "code",
   "execution_count": 25,
   "metadata": {},
   "outputs": [
    {
     "data": {
      "text/plain": [
       "(1015, 23)"
      ]
     },
     "execution_count": 25,
     "metadata": {},
     "output_type": "execute_result"
    }
   ],
   "source": [
    "new_report.shape"
   ]
  },
  {
   "cell_type": "code",
   "execution_count": 26,
   "metadata": {},
   "outputs": [],
   "source": [
    "new_report=new_report.fillna(0)"
   ]
  },
  {
   "cell_type": "code",
   "execution_count": 27,
   "metadata": {},
   "outputs": [],
   "source": [
    "new_report['incl']=new_report['incl'].replace(0,'N')"
   ]
  },
  {
   "attachments": {},
   "cell_type": "markdown",
   "metadata": {},
   "source": [
    "converting incl column as category since it's a boolean column"
   ]
  },
  {
   "cell_type": "code",
   "execution_count": 28,
   "metadata": {},
   "outputs": [
    {
     "data": {
      "text/plain": [
       "Index(['producer', 'change_quotes', 'change_nb_apps', 'change_rw_apps',\n",
       "       'quotes', 'nb_apps', 'rw_apps', 'quotes.1', 'nb_apps.1', 'rw_apps.1',\n",
       "       'quotes.2', 'nb_apps.2', 'rw_apps.2', 'quotes.3', 'nb_apps.3',\n",
       "       'rw_apps.3', 'count(*)', 'rank', 'incl', 'nb_labels', 'nb_total',\n",
       "       'rw_labels', 'rw_total'],\n",
       "      dtype='object')"
      ]
     },
     "execution_count": 28,
     "metadata": {},
     "output_type": "execute_result"
    }
   ],
   "source": [
    "new_report.columns"
   ]
  },
  {
   "cell_type": "code",
   "execution_count": 29,
   "metadata": {},
   "outputs": [
    {
     "data": {
      "text/plain": [
       "0    Y\n",
       "1    Y\n",
       "2    Y\n",
       "3    Y\n",
       "4    Y\n",
       "Name: incl, dtype: category\n",
       "Categories (2, object): [N, Y]"
      ]
     },
     "execution_count": 29,
     "metadata": {},
     "output_type": "execute_result"
    }
   ],
   "source": [
    "new_report['incl']=new_report['incl'].astype('category')"
   ]
  },
  {
   "attachments": {},
   "cell_type": "markdown",
   "metadata": {},
   "source": [
    "updating file with this weeks data"
   ]
  },
  {
   "cell_type": "code",
   "execution_count": 31,
   "metadata": {},
   "outputs": [
    {
     "name": "stdout",
     "output_type": "stream",
     "text": [
      "Number of true values: 1015\n",
      "Number of false values: 0\n"
     ]
    }
   ],
   "source": [
    "true_count = (new_report['count(*)'].isin(new_report['quotes'])).sum()\n",
    "false_count = (new_report['count(*)'].isin(new_report['quotes'])==False).sum()\n",
    "print(\"Number of true values:\", true_count)\n",
    "print(\"Number of false values:\", false_count)\n"
   ]
  },
  {
   "cell_type": "code",
   "execution_count": 32,
   "metadata": {},
   "outputs": [],
   "source": [
    "new_report['updated_quotes']=new_report['count(*)']\n",
    "new_report['updated_nb_apps']=new_report['nb_total']\n",
    "new_report['updated_rw_apps']=new_report['rw_total']"
   ]
  },
  {
   "cell_type": "code",
   "execution_count": 34,
   "metadata": {},
   "outputs": [],
   "source": [
    "new_report['change_quotes']=new_report['count(*)'] - new_report['quotes.1']\n",
    "new_report['change_nb_apps']=new_report['nb_total'] - new_report['nb_apps.1']\n",
    "new_report['change_rw_apps']=new_report['rw_total'] - new_report['rw_apps.1']"
   ]
  },
  {
   "attachments": {},
   "cell_type": "markdown",
   "metadata": {},
   "source": [
    "updating only the columns we need"
   ]
  },
  {
   "cell_type": "code",
   "execution_count": 39,
   "metadata": {},
   "outputs": [],
   "source": [
    "#new_report=new_report[['producer', 'change_quotes', 'change_nb_apps', 'change_rw_apps', \n",
    "#        'updated_quotes', 'updated_nb_apps', 'updated_rw_apps',\n",
    "#       'quotes', 'nb_apps', 'rw_apps', 'quotes.1', 'nb_apps.1', 'rw_apps.1',\n",
    "#       'quotes.2', 'nb_apps.2', 'rw_apps.2', 'quotes.3']]"
   ]
  },
  {
   "cell_type": "code",
   "execution_count": 40,
   "metadata": {},
   "outputs": [
    {
     "data": {
      "text/html": [
       "<div>\n",
       "<style scoped>\n",
       "    .dataframe tbody tr th:only-of-type {\n",
       "        vertical-align: middle;\n",
       "    }\n",
       "\n",
       "    .dataframe tbody tr th {\n",
       "        vertical-align: top;\n",
       "    }\n",
       "\n",
       "    .dataframe thead th {\n",
       "        text-align: right;\n",
       "    }\n",
       "</style>\n",
       "<table border=\"1\" class=\"dataframe\">\n",
       "  <thead>\n",
       "    <tr style=\"text-align: right;\">\n",
       "      <th></th>\n",
       "      <th>producer</th>\n",
       "      <th>change_quotes</th>\n",
       "      <th>change_nb_apps</th>\n",
       "      <th>change_rw_apps</th>\n",
       "      <th>quotes</th>\n",
       "      <th>nb_apps</th>\n",
       "      <th>rw_apps</th>\n",
       "      <th>quotes.1</th>\n",
       "      <th>nb_apps.1</th>\n",
       "      <th>rw_apps.1</th>\n",
       "      <th>...</th>\n",
       "      <th>count(*)</th>\n",
       "      <th>rank</th>\n",
       "      <th>incl</th>\n",
       "      <th>nb_labels</th>\n",
       "      <th>nb_total</th>\n",
       "      <th>rw_labels</th>\n",
       "      <th>rw_total</th>\n",
       "      <th>updated_quotes</th>\n",
       "      <th>updated_nb_apps</th>\n",
       "      <th>updated_rw_apps</th>\n",
       "    </tr>\n",
       "  </thead>\n",
       "  <tbody>\n",
       "    <tr>\n",
       "      <th>0</th>\n",
       "      <td>ROADWAY INSURANCE INC #1</td>\n",
       "      <td>-46.0</td>\n",
       "      <td>-8.0</td>\n",
       "      <td>6.0</td>\n",
       "      <td>469</td>\n",
       "      <td>60.0</td>\n",
       "      <td>48.0</td>\n",
       "      <td>515.0</td>\n",
       "      <td>68.0</td>\n",
       "      <td>42.0</td>\n",
       "      <td>...</td>\n",
       "      <td>469.0</td>\n",
       "      <td>1.0</td>\n",
       "      <td>Y</td>\n",
       "      <td>ROADWAY INSURANCE INC #1</td>\n",
       "      <td>60.0</td>\n",
       "      <td>ROADWAY INSURANCE INC #1</td>\n",
       "      <td>48.0</td>\n",
       "      <td>469.0</td>\n",
       "      <td>60.0</td>\n",
       "      <td>48.0</td>\n",
       "    </tr>\n",
       "    <tr>\n",
       "      <th>1</th>\n",
       "      <td>EZ INSURANCE GROUP LLC</td>\n",
       "      <td>-47.0</td>\n",
       "      <td>0.0</td>\n",
       "      <td>-1.0</td>\n",
       "      <td>361</td>\n",
       "      <td>36.0</td>\n",
       "      <td>17.0</td>\n",
       "      <td>408.0</td>\n",
       "      <td>36.0</td>\n",
       "      <td>18.0</td>\n",
       "      <td>...</td>\n",
       "      <td>361.0</td>\n",
       "      <td>2.0</td>\n",
       "      <td>Y</td>\n",
       "      <td>EZ INSURANCE GROUP LLC</td>\n",
       "      <td>36.0</td>\n",
       "      <td>EZ INSURANCE GROUP LLC</td>\n",
       "      <td>17.0</td>\n",
       "      <td>361.0</td>\n",
       "      <td>36.0</td>\n",
       "      <td>17.0</td>\n",
       "    </tr>\n",
       "    <tr>\n",
       "      <th>2</th>\n",
       "      <td>KEYSTONE INSURANCE AGENCY INC</td>\n",
       "      <td>-6.0</td>\n",
       "      <td>4.0</td>\n",
       "      <td>6.0</td>\n",
       "      <td>75</td>\n",
       "      <td>24.0</td>\n",
       "      <td>15.0</td>\n",
       "      <td>81.0</td>\n",
       "      <td>20.0</td>\n",
       "      <td>9.0</td>\n",
       "      <td>...</td>\n",
       "      <td>75.0</td>\n",
       "      <td>3.0</td>\n",
       "      <td>Y</td>\n",
       "      <td>KEYSTONE INSURANCE AGENCY INC</td>\n",
       "      <td>24.0</td>\n",
       "      <td>KEYSTONE INSURANCE AGENCY INC</td>\n",
       "      <td>15.0</td>\n",
       "      <td>75.0</td>\n",
       "      <td>24.0</td>\n",
       "      <td>15.0</td>\n",
       "    </tr>\n",
       "    <tr>\n",
       "      <th>3</th>\n",
       "      <td>PINNING INS AGENCY INC #1</td>\n",
       "      <td>18.0</td>\n",
       "      <td>0.0</td>\n",
       "      <td>-6.0</td>\n",
       "      <td>231</td>\n",
       "      <td>27.0</td>\n",
       "      <td>5.0</td>\n",
       "      <td>213.0</td>\n",
       "      <td>27.0</td>\n",
       "      <td>11.0</td>\n",
       "      <td>...</td>\n",
       "      <td>231.0</td>\n",
       "      <td>4.0</td>\n",
       "      <td>Y</td>\n",
       "      <td>PINNING INS AGENCY INC #1</td>\n",
       "      <td>27.0</td>\n",
       "      <td>PINNING INS AGENCY INC #1</td>\n",
       "      <td>5.0</td>\n",
       "      <td>231.0</td>\n",
       "      <td>27.0</td>\n",
       "      <td>5.0</td>\n",
       "    </tr>\n",
       "    <tr>\n",
       "      <th>4</th>\n",
       "      <td>JAMES BROWN INS AGENCY INC</td>\n",
       "      <td>74.0</td>\n",
       "      <td>-2.0</td>\n",
       "      <td>3.0</td>\n",
       "      <td>297</td>\n",
       "      <td>27.0</td>\n",
       "      <td>11.0</td>\n",
       "      <td>223.0</td>\n",
       "      <td>29.0</td>\n",
       "      <td>8.0</td>\n",
       "      <td>...</td>\n",
       "      <td>297.0</td>\n",
       "      <td>5.0</td>\n",
       "      <td>Y</td>\n",
       "      <td>JAMES BROWN INS AGENCY INC</td>\n",
       "      <td>27.0</td>\n",
       "      <td>JAMES BROWN INS AGENCY INC</td>\n",
       "      <td>11.0</td>\n",
       "      <td>297.0</td>\n",
       "      <td>27.0</td>\n",
       "      <td>11.0</td>\n",
       "    </tr>\n",
       "  </tbody>\n",
       "</table>\n",
       "<p>5 rows × 26 columns</p>\n",
       "</div>"
      ],
      "text/plain": [
       "                        producer  change_quotes  change_nb_apps  \\\n",
       "0       ROADWAY INSURANCE INC #1          -46.0            -8.0   \n",
       "1         EZ INSURANCE GROUP LLC          -47.0             0.0   \n",
       "2  KEYSTONE INSURANCE AGENCY INC           -6.0             4.0   \n",
       "3      PINNING INS AGENCY INC #1           18.0             0.0   \n",
       "4     JAMES BROWN INS AGENCY INC           74.0            -2.0   \n",
       "\n",
       "   change_rw_apps  quotes  nb_apps  rw_apps  quotes.1  nb_apps.1  rw_apps.1  \\\n",
       "0             6.0     469     60.0     48.0     515.0       68.0       42.0   \n",
       "1            -1.0     361     36.0     17.0     408.0       36.0       18.0   \n",
       "2             6.0      75     24.0     15.0      81.0       20.0        9.0   \n",
       "3            -6.0     231     27.0      5.0     213.0       27.0       11.0   \n",
       "4             3.0     297     27.0     11.0     223.0       29.0        8.0   \n",
       "\n",
       "        ...        count(*)  rank  incl                      nb_labels  \\\n",
       "0       ...           469.0   1.0     Y       ROADWAY INSURANCE INC #1   \n",
       "1       ...           361.0   2.0     Y         EZ INSURANCE GROUP LLC   \n",
       "2       ...            75.0   3.0     Y  KEYSTONE INSURANCE AGENCY INC   \n",
       "3       ...           231.0   4.0     Y      PINNING INS AGENCY INC #1   \n",
       "4       ...           297.0   5.0     Y     JAMES BROWN INS AGENCY INC   \n",
       "\n",
       "   nb_total                      rw_labels  rw_total  updated_quotes  \\\n",
       "0      60.0       ROADWAY INSURANCE INC #1      48.0           469.0   \n",
       "1      36.0         EZ INSURANCE GROUP LLC      17.0           361.0   \n",
       "2      24.0  KEYSTONE INSURANCE AGENCY INC      15.0            75.0   \n",
       "3      27.0      PINNING INS AGENCY INC #1       5.0           231.0   \n",
       "4      27.0     JAMES BROWN INS AGENCY INC      11.0           297.0   \n",
       "\n",
       "  updated_nb_apps updated_rw_apps  \n",
       "0            60.0            48.0  \n",
       "1            36.0            17.0  \n",
       "2            24.0            15.0  \n",
       "3            27.0             5.0  \n",
       "4            27.0            11.0  \n",
       "\n",
       "[5 rows x 26 columns]"
      ]
     },
     "execution_count": 40,
     "metadata": {},
     "output_type": "execute_result"
    }
   ],
   "source": [
    "new_report.head()"
   ]
  },
  {
   "cell_type": "code",
   "execution_count": 41,
   "metadata": {},
   "outputs": [],
   "source": [
    "new_report.to_excel(r\"C:\\Users\\pa173\\Documents\\Python\\Weekly Report\\new_report.xlsx\", index=False)"
   ]
  }
 ],
 "metadata": {
  "kernelspec": {
   "display_name": "Python 3",
   "language": "python",
   "name": "python3"
  },
  "language_info": {
   "codemirror_mode": {
    "name": "ipython",
    "version": 3
   },
   "file_extension": ".py",
   "mimetype": "text/x-python",
   "name": "python",
   "nbconvert_exporter": "python",
   "pygments_lexer": "ipython3",
   "version": "3.7.1"
  },
  "orig_nbformat": 4,
  "vscode": {
   "interpreter": {
    "hash": "7dd15e51a4470d085f7a243fb04650bc4fe166c7b9d4ae5b8d1a77af89f8b74e"
   }
  }
 },
 "nbformat": 4,
 "nbformat_minor": 2
}
