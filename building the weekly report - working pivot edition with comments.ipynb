{
 "cells": [
  {
   "cell_type": "code",
   "execution_count": 1,
   "metadata": {},
   "outputs": [],
   "source": [
    "import pandas as pd"
   ]
  },
  {
   "cell_type": "code",
   "execution_count": 2,
   "metadata": {},
   "outputs": [],
   "source": [
    "df1 = pd.read_excel(r\"C:\\Users\\pa173\\Documents\\SQL Excel Extracts\\Weekly Producer\\January\\Jan 15 - Jan 21 2023.xlsx\", sheet='Export Worksheet', index=False)"
   ]
  },
  {
   "cell_type": "code",
   "execution_count": 3,
   "metadata": {},
   "outputs": [
    {
     "data": {
      "text/plain": [
       "SUB_BUSINESS_UNIT_NUMBER     int64\n",
       "MIPS_FUNCTION               object\n",
       "COUNT(*)                     int64\n",
       "dtype: object"
      ]
     },
     "execution_count": 3,
     "metadata": {},
     "output_type": "execute_result"
    }
   ],
   "source": [
    "df1.dtypes"
   ]
  },
  {
   "cell_type": "code",
   "execution_count": 4,
   "metadata": {},
   "outputs": [],
   "source": [
    "df1 = df1.rename(columns={'SUB_BUSINESS_UNIT_NUMBER': 'BUSINESS_UNIT_NUMBER'})"
   ]
  },
  {
   "cell_type": "code",
   "execution_count": 5,
   "metadata": {},
   "outputs": [],
   "source": [
    "df2 = pd.read_excel(r\"C:\\Users\\pa173\\Documents\\Communications\\All Producer with Parent Rollup.xlsx\", index=False)"
   ]
  },
  {
   "cell_type": "code",
   "execution_count": 6,
   "metadata": {},
   "outputs": [
    {
     "data": {
      "text/plain": [
       "BUSINESS_UNIT_NUMBER        int64\n",
       "PRODUCER                   object\n",
       "PARENT_NO                   int64\n",
       "Unnamed: 3                float64\n",
       "Parent Name                object\n",
       "PARENT_NO.1                object\n",
       "Unnamed: 6                float64\n",
       "Grandparent #             float64\n",
       "Grandparent Name           object\n",
       "Unnamed: 9                float64\n",
       "Great Grandparent #       float64\n",
       "Great Grandparent Name     object\n",
       "dtype: object"
      ]
     },
     "execution_count": 6,
     "metadata": {},
     "output_type": "execute_result"
    }
   ],
   "source": [
    "df2.dtypes"
   ]
  },
  {
   "attachments": {},
   "cell_type": "markdown",
   "metadata": {},
   "source": [
    "testing different merges"
   ]
  },
  {
   "attachments": {},
   "cell_type": "markdown",
   "metadata": {},
   "source": [
    "This merge works"
   ]
  },
  {
   "cell_type": "code",
   "execution_count": 7,
   "metadata": {},
   "outputs": [],
   "source": [
    "df3 = pd.merge(df1, df2, on='BUSINESS_UNIT_NUMBER', how='right')\n",
    "#df3.shape"
   ]
  },
  {
   "cell_type": "code",
   "execution_count": 8,
   "metadata": {},
   "outputs": [],
   "source": [
    "#df3 = pd.merge(left=df1, right = df2, left_on='SUB_BUSINESS_UNIT_NUMBER', right_on='BUSINESS_UNIT_NUMBER')\n",
    "#df3.shape"
   ]
  },
  {
   "cell_type": "code",
   "execution_count": 9,
   "metadata": {},
   "outputs": [
    {
     "data": {
      "text/html": [
       "<div>\n",
       "<style scoped>\n",
       "    .dataframe tbody tr th:only-of-type {\n",
       "        vertical-align: middle;\n",
       "    }\n",
       "\n",
       "    .dataframe tbody tr th {\n",
       "        vertical-align: top;\n",
       "    }\n",
       "\n",
       "    .dataframe thead th {\n",
       "        text-align: right;\n",
       "    }\n",
       "</style>\n",
       "<table border=\"1\" class=\"dataframe\">\n",
       "  <thead>\n",
       "    <tr style=\"text-align: right;\">\n",
       "      <th></th>\n",
       "      <th>BUSINESS_UNIT_NUMBER</th>\n",
       "      <th>MIPS_FUNCTION</th>\n",
       "      <th>COUNT(*)</th>\n",
       "      <th>PRODUCER</th>\n",
       "      <th>PARENT_NO</th>\n",
       "      <th>Unnamed: 3</th>\n",
       "      <th>Parent Name</th>\n",
       "      <th>PARENT_NO.1</th>\n",
       "      <th>Unnamed: 6</th>\n",
       "      <th>Grandparent #</th>\n",
       "      <th>Grandparent Name</th>\n",
       "      <th>Unnamed: 9</th>\n",
       "      <th>Great Grandparent #</th>\n",
       "      <th>Great Grandparent Name</th>\n",
       "    </tr>\n",
       "  </thead>\n",
       "  <tbody>\n",
       "    <tr>\n",
       "      <th>0</th>\n",
       "      <td>100028</td>\n",
       "      <td>FQ</td>\n",
       "      <td>47.0</td>\n",
       "      <td>CHRIS D AGUIRRE #2</td>\n",
       "      <td>91352</td>\n",
       "      <td>NaN</td>\n",
       "      <td>CHRIS D AGUIRRE</td>\n",
       "      <td>91352</td>\n",
       "      <td>NaN</td>\n",
       "      <td>91352.0</td>\n",
       "      <td>CHRIS D AGUIRRE</td>\n",
       "      <td>NaN</td>\n",
       "      <td>91352.0</td>\n",
       "      <td>CHRIS D AGUIRRE</td>\n",
       "    </tr>\n",
       "    <tr>\n",
       "      <th>1</th>\n",
       "      <td>100201</td>\n",
       "      <td>FQ</td>\n",
       "      <td>1.0</td>\n",
       "      <td>ADVANCED INSURANCE INC</td>\n",
       "      <td>100201</td>\n",
       "      <td>NaN</td>\n",
       "      <td>ADVANCED INSURANCE INC</td>\n",
       "      <td>100201</td>\n",
       "      <td>NaN</td>\n",
       "      <td>100201.0</td>\n",
       "      <td>ADVANCED INSURANCE INC</td>\n",
       "      <td>NaN</td>\n",
       "      <td>100201.0</td>\n",
       "      <td>ADVANCED INSURANCE INC</td>\n",
       "    </tr>\n",
       "    <tr>\n",
       "      <th>2</th>\n",
       "      <td>100214</td>\n",
       "      <td>FQ</td>\n",
       "      <td>26.0</td>\n",
       "      <td>MOHAMED A KAMIL</td>\n",
       "      <td>100214</td>\n",
       "      <td>NaN</td>\n",
       "      <td>MOHAMED A KAMIL</td>\n",
       "      <td>100214</td>\n",
       "      <td>NaN</td>\n",
       "      <td>100214.0</td>\n",
       "      <td>MOHAMED A KAMIL</td>\n",
       "      <td>NaN</td>\n",
       "      <td>100214.0</td>\n",
       "      <td>MOHAMED A KAMIL</td>\n",
       "    </tr>\n",
       "    <tr>\n",
       "      <th>3</th>\n",
       "      <td>100273</td>\n",
       "      <td>FQ</td>\n",
       "      <td>9.0</td>\n",
       "      <td>JORDAN SALEH STATE FARM INS</td>\n",
       "      <td>100273</td>\n",
       "      <td>NaN</td>\n",
       "      <td>JORDAN SALEH STATE FARM INS</td>\n",
       "      <td>100273</td>\n",
       "      <td>NaN</td>\n",
       "      <td>100273.0</td>\n",
       "      <td>JORDAN SALEH STATE FARM INS</td>\n",
       "      <td>NaN</td>\n",
       "      <td>100273.0</td>\n",
       "      <td>JORDAN SALEH STATE FARM INS</td>\n",
       "    </tr>\n",
       "    <tr>\n",
       "      <th>4</th>\n",
       "      <td>100279</td>\n",
       "      <td>FQ</td>\n",
       "      <td>13.0</td>\n",
       "      <td>MIDTOWN INSURANCE GROUP LLC</td>\n",
       "      <td>100279</td>\n",
       "      <td>NaN</td>\n",
       "      <td>MIDTOWN INSURANCE GROUP LLC</td>\n",
       "      <td>100279</td>\n",
       "      <td>NaN</td>\n",
       "      <td>100279.0</td>\n",
       "      <td>MIDTOWN INSURANCE GROUP LLC</td>\n",
       "      <td>NaN</td>\n",
       "      <td>100279.0</td>\n",
       "      <td>MIDTOWN INSURANCE GROUP LLC</td>\n",
       "    </tr>\n",
       "  </tbody>\n",
       "</table>\n",
       "</div>"
      ],
      "text/plain": [
       "   BUSINESS_UNIT_NUMBER MIPS_FUNCTION  COUNT(*)                     PRODUCER  \\\n",
       "0                100028            FQ      47.0           CHRIS D AGUIRRE #2   \n",
       "1                100201            FQ       1.0       ADVANCED INSURANCE INC   \n",
       "2                100214            FQ      26.0              MOHAMED A KAMIL   \n",
       "3                100273            FQ       9.0  JORDAN SALEH STATE FARM INS   \n",
       "4                100279            FQ      13.0  MIDTOWN INSURANCE GROUP LLC   \n",
       "\n",
       "   PARENT_NO  Unnamed: 3                  Parent Name PARENT_NO.1  Unnamed: 6  \\\n",
       "0      91352         NaN              CHRIS D AGUIRRE       91352         NaN   \n",
       "1     100201         NaN       ADVANCED INSURANCE INC      100201         NaN   \n",
       "2     100214         NaN              MOHAMED A KAMIL      100214         NaN   \n",
       "3     100273         NaN  JORDAN SALEH STATE FARM INS      100273         NaN   \n",
       "4     100279         NaN  MIDTOWN INSURANCE GROUP LLC      100279         NaN   \n",
       "\n",
       "   Grandparent #             Grandparent Name  Unnamed: 9  \\\n",
       "0        91352.0              CHRIS D AGUIRRE         NaN   \n",
       "1       100201.0       ADVANCED INSURANCE INC         NaN   \n",
       "2       100214.0              MOHAMED A KAMIL         NaN   \n",
       "3       100273.0  JORDAN SALEH STATE FARM INS         NaN   \n",
       "4       100279.0  MIDTOWN INSURANCE GROUP LLC         NaN   \n",
       "\n",
       "   Great Grandparent #       Great Grandparent Name  \n",
       "0              91352.0              CHRIS D AGUIRRE  \n",
       "1             100201.0       ADVANCED INSURANCE INC  \n",
       "2             100214.0              MOHAMED A KAMIL  \n",
       "3             100273.0  JORDAN SALEH STATE FARM INS  \n",
       "4             100279.0  MIDTOWN INSURANCE GROUP LLC  "
      ]
     },
     "execution_count": 9,
     "metadata": {},
     "output_type": "execute_result"
    }
   ],
   "source": [
    "df3.head()"
   ]
  },
  {
   "cell_type": "code",
   "execution_count": 10,
   "metadata": {},
   "outputs": [
    {
     "data": {
      "text/plain": [
       "(99235, 14)"
      ]
     },
     "execution_count": 10,
     "metadata": {},
     "output_type": "execute_result"
    }
   ],
   "source": [
    "df3.shape"
   ]
  },
  {
   "attachments": {},
   "cell_type": "markdown",
   "metadata": {},
   "source": [
    "this pivot works"
   ]
  },
  {
   "cell_type": "code",
   "execution_count": 11,
   "metadata": {},
   "outputs": [],
   "source": [
    "#pivot = df3.pivot_table(index=['Parent Name'], values=['COUNT(*)'], aggfunc='sum').sort_values(by=['COUNT(*)'], ascending=False) # don't need this one\n",
    "df3 = df3.pivot_table(index=['Parent Name'], values=['COUNT(*)'], aggfunc='sum').sort_values(by=['COUNT(*)'], ascending=False)"
   ]
  },
  {
   "attachments": {},
   "cell_type": "markdown",
   "metadata": {},
   "source": [
    "don't need this one"
   ]
  },
  {
   "cell_type": "code",
   "execution_count": null,
   "metadata": {},
   "outputs": [],
   "source": [
    "#pivot = df3.pivot_table(index=['Parent Name'], values=['COUNT(*)'], aggfunc='sum').sort_values(by=['COUNT(*)'], ascending=False) # don't need this one"
   ]
  },
  {
   "cell_type": "code",
   "execution_count": 13,
   "metadata": {},
   "outputs": [],
   "source": [
    "#df3.to_excel(r\"C:\\Users\\pa173\\Documents\\Python\\Weekly Report\\pivot test.xlsx\", index=False)"
   ]
  },
  {
   "cell_type": "code",
   "execution_count": 14,
   "metadata": {},
   "outputs": [
    {
     "data": {
      "text/plain": [
       "469.0"
      ]
     },
     "execution_count": 14,
     "metadata": {},
     "output_type": "execute_result"
    }
   ],
   "source": [
    "df3['COUNT(*)'].max()"
   ]
  },
  {
   "cell_type": "code",
   "execution_count": 15,
   "metadata": {},
   "outputs": [
    {
     "data": {
      "text/html": [
       "<div>\n",
       "<style scoped>\n",
       "    .dataframe tbody tr th:only-of-type {\n",
       "        vertical-align: middle;\n",
       "    }\n",
       "\n",
       "    .dataframe tbody tr th {\n",
       "        vertical-align: top;\n",
       "    }\n",
       "\n",
       "    .dataframe thead th {\n",
       "        text-align: right;\n",
       "    }\n",
       "</style>\n",
       "<table border=\"1\" class=\"dataframe\">\n",
       "  <thead>\n",
       "    <tr style=\"text-align: right;\">\n",
       "      <th></th>\n",
       "      <th>COUNT(*)</th>\n",
       "    </tr>\n",
       "    <tr>\n",
       "      <th>Parent Name</th>\n",
       "      <th></th>\n",
       "    </tr>\n",
       "  </thead>\n",
       "  <tbody>\n",
       "    <tr>\n",
       "      <th>ROADWAY INSURANCE INC #1</th>\n",
       "      <td>469.0</td>\n",
       "    </tr>\n",
       "    <tr>\n",
       "      <th>EZ INSURANCE GROUP LLC</th>\n",
       "      <td>361.0</td>\n",
       "    </tr>\n",
       "    <tr>\n",
       "      <th>JAMES BROWN INS AGENCY INC</th>\n",
       "      <td>297.0</td>\n",
       "    </tr>\n",
       "    <tr>\n",
       "      <th>PINNING INS AGENCY INC #1</th>\n",
       "      <td>231.0</td>\n",
       "    </tr>\n",
       "    <tr>\n",
       "      <th>RAMIREZ INSURANCE AGENCY INC</th>\n",
       "      <td>172.0</td>\n",
       "    </tr>\n",
       "  </tbody>\n",
       "</table>\n",
       "</div>"
      ],
      "text/plain": [
       "                              COUNT(*)\n",
       "Parent Name                           \n",
       "ROADWAY INSURANCE INC #1         469.0\n",
       "EZ INSURANCE GROUP LLC           361.0\n",
       "JAMES BROWN INS AGENCY INC       297.0\n",
       "PINNING INS AGENCY INC #1        231.0\n",
       "RAMIREZ INSURANCE AGENCY INC     172.0"
      ]
     },
     "execution_count": 15,
     "metadata": {},
     "output_type": "execute_result"
    }
   ],
   "source": [
    "df3.sort_values(by=['COUNT(*)'], ascending=False).head()"
   ]
  },
  {
   "cell_type": "code",
   "execution_count": 16,
   "metadata": {},
   "outputs": [],
   "source": [
    "#df3.to_excel(r\"C:\\Users\\pa173\\Documents\\Python\\Weekly Report\\df3.xlsx\", index=False)"
   ]
  },
  {
   "cell_type": "code",
   "execution_count": 17,
   "metadata": {},
   "outputs": [
    {
     "data": {
      "text/html": [
       "<div>\n",
       "<style scoped>\n",
       "    .dataframe tbody tr th:only-of-type {\n",
       "        vertical-align: middle;\n",
       "    }\n",
       "\n",
       "    .dataframe tbody tr th {\n",
       "        vertical-align: top;\n",
       "    }\n",
       "\n",
       "    .dataframe thead th {\n",
       "        text-align: right;\n",
       "    }\n",
       "</style>\n",
       "<table border=\"1\" class=\"dataframe\">\n",
       "  <thead>\n",
       "    <tr style=\"text-align: right;\">\n",
       "      <th></th>\n",
       "      <th>Producer</th>\n",
       "      <th>Rank</th>\n",
       "      <th>Incl</th>\n",
       "      <th>GGP BUN</th>\n",
       "      <th>Unnamed: 4</th>\n",
       "    </tr>\n",
       "  </thead>\n",
       "  <tbody>\n",
       "    <tr>\n",
       "      <th>0</th>\n",
       "      <td>A &amp; A INSURANCE CENTER LLC</td>\n",
       "      <td>124</td>\n",
       "      <td>Y</td>\n",
       "      <td>92319.0</td>\n",
       "      <td>92319.0</td>\n",
       "    </tr>\n",
       "    <tr>\n",
       "      <th>1</th>\n",
       "      <td>A &amp; E 1ST CHOICE INS AGCY LLC</td>\n",
       "      <td>64</td>\n",
       "      <td>Y</td>\n",
       "      <td>93446.0</td>\n",
       "      <td>NaN</td>\n",
       "    </tr>\n",
       "    <tr>\n",
       "      <th>2</th>\n",
       "      <td>A &amp; W INSURANCE SERVICE INC</td>\n",
       "      <td>454</td>\n",
       "      <td>Y</td>\n",
       "      <td>1896.0</td>\n",
       "      <td>NaN</td>\n",
       "    </tr>\n",
       "    <tr>\n",
       "      <th>3</th>\n",
       "      <td>A DIAMOND INSURANCE LLC</td>\n",
       "      <td>568</td>\n",
       "      <td>Y</td>\n",
       "      <td>101385.0</td>\n",
       "      <td>NaN</td>\n",
       "    </tr>\n",
       "    <tr>\n",
       "      <th>4</th>\n",
       "      <td>A F SZABO INSURANCE AGENCY INC</td>\n",
       "      <td>796</td>\n",
       "      <td>Y</td>\n",
       "      <td>65004.0</td>\n",
       "      <td>NaN</td>\n",
       "    </tr>\n",
       "  </tbody>\n",
       "</table>\n",
       "</div>"
      ],
      "text/plain": [
       "                         Producer  Rank Incl   GGP BUN  Unnamed: 4\n",
       "0      A & A INSURANCE CENTER LLC   124    Y   92319.0     92319.0\n",
       "1   A & E 1ST CHOICE INS AGCY LLC    64    Y   93446.0         NaN\n",
       "2     A & W INSURANCE SERVICE INC   454    Y    1896.0         NaN\n",
       "3         A DIAMOND INSURANCE LLC   568    Y  101385.0         NaN\n",
       "4  A F SZABO INSURANCE AGENCY INC   796    Y   65004.0         NaN"
      ]
     },
     "execution_count": 17,
     "metadata": {},
     "output_type": "execute_result"
    }
   ],
   "source": [
    "rank_incl = pd.read_excel(r\"C:\\Users\\pa173\\Documents\\Communications\\Wkly Working - Rank and List.xlsx\", index=False)\n",
    "rank_incl.head()"
   ]
  },
  {
   "cell_type": "code",
   "execution_count": 18,
   "metadata": {},
   "outputs": [
    {
     "data": {
      "text/plain": [
       "(1012, 5)"
      ]
     },
     "execution_count": 18,
     "metadata": {},
     "output_type": "execute_result"
    }
   ],
   "source": [
    "rank_incl.shape"
   ]
  },
  {
   "attachments": {},
   "cell_type": "markdown",
   "metadata": {},
   "source": [
    "this merge is important"
   ]
  },
  {
   "cell_type": "code",
   "execution_count": 19,
   "metadata": {},
   "outputs": [
    {
     "data": {
      "text/html": [
       "<div>\n",
       "<style scoped>\n",
       "    .dataframe tbody tr th:only-of-type {\n",
       "        vertical-align: middle;\n",
       "    }\n",
       "\n",
       "    .dataframe tbody tr th {\n",
       "        vertical-align: top;\n",
       "    }\n",
       "\n",
       "    .dataframe thead th {\n",
       "        text-align: right;\n",
       "    }\n",
       "</style>\n",
       "<table border=\"1\" class=\"dataframe\">\n",
       "  <thead>\n",
       "    <tr style=\"text-align: right;\">\n",
       "      <th></th>\n",
       "      <th>COUNT(*)</th>\n",
       "      <th>Producer</th>\n",
       "      <th>Rank</th>\n",
       "      <th>Incl</th>\n",
       "      <th>GGP BUN</th>\n",
       "      <th>Unnamed: 4</th>\n",
       "    </tr>\n",
       "  </thead>\n",
       "  <tbody>\n",
       "    <tr>\n",
       "      <th>0</th>\n",
       "      <td>469.0</td>\n",
       "      <td>ROADWAY INSURANCE INC #1</td>\n",
       "      <td>1</td>\n",
       "      <td>Y</td>\n",
       "      <td>52360.0</td>\n",
       "      <td>NaN</td>\n",
       "    </tr>\n",
       "    <tr>\n",
       "      <th>1</th>\n",
       "      <td>361.0</td>\n",
       "      <td>EZ INSURANCE GROUP LLC</td>\n",
       "      <td>2</td>\n",
       "      <td>Y</td>\n",
       "      <td>94565.0</td>\n",
       "      <td>NaN</td>\n",
       "    </tr>\n",
       "    <tr>\n",
       "      <th>2</th>\n",
       "      <td>297.0</td>\n",
       "      <td>JAMES BROWN INS AGENCY INC</td>\n",
       "      <td>5</td>\n",
       "      <td>Y</td>\n",
       "      <td>67365.0</td>\n",
       "      <td>NaN</td>\n",
       "    </tr>\n",
       "    <tr>\n",
       "      <th>3</th>\n",
       "      <td>231.0</td>\n",
       "      <td>PINNING INS AGENCY INC #1</td>\n",
       "      <td>4</td>\n",
       "      <td>Y</td>\n",
       "      <td>4352.0</td>\n",
       "      <td>NaN</td>\n",
       "    </tr>\n",
       "    <tr>\n",
       "      <th>4</th>\n",
       "      <td>172.0</td>\n",
       "      <td>RAMIREZ INSURANCE AGENCY INC</td>\n",
       "      <td>6</td>\n",
       "      <td>Y</td>\n",
       "      <td>68223.0</td>\n",
       "      <td>NaN</td>\n",
       "    </tr>\n",
       "  </tbody>\n",
       "</table>\n",
       "</div>"
      ],
      "text/plain": [
       "   COUNT(*)                      Producer  Rank Incl  GGP BUN  Unnamed: 4\n",
       "0     469.0      ROADWAY INSURANCE INC #1     1    Y  52360.0         NaN\n",
       "1     361.0        EZ INSURANCE GROUP LLC     2    Y  94565.0         NaN\n",
       "2     297.0    JAMES BROWN INS AGENCY INC     5    Y  67365.0         NaN\n",
       "3     231.0     PINNING INS AGENCY INC #1     4    Y   4352.0         NaN\n",
       "4     172.0  RAMIREZ INSURANCE AGENCY INC     6    Y  68223.0         NaN"
      ]
     },
     "execution_count": 19,
     "metadata": {},
     "output_type": "execute_result"
    }
   ],
   "source": [
    "df4 = pd.merge(left = df3, right = rank_incl, left_on='Parent Name', right_on='Producer')\n",
    "df4.head()"
   ]
  },
  {
   "cell_type": "code",
   "execution_count": 20,
   "metadata": {},
   "outputs": [
    {
     "data": {
      "text/plain": [
       "(950, 6)"
      ]
     },
     "execution_count": 20,
     "metadata": {},
     "output_type": "execute_result"
    }
   ],
   "source": [
    "df4.shape"
   ]
  },
  {
   "cell_type": "code",
   "execution_count": 21,
   "metadata": {},
   "outputs": [],
   "source": [
    "df4 = df4.drop(columns=['GGP BUN', 'Unnamed: 4'])"
   ]
  },
  {
   "cell_type": "code",
   "execution_count": 22,
   "metadata": {},
   "outputs": [
    {
     "data": {
      "text/html": [
       "<div>\n",
       "<style scoped>\n",
       "    .dataframe tbody tr th:only-of-type {\n",
       "        vertical-align: middle;\n",
       "    }\n",
       "\n",
       "    .dataframe tbody tr th {\n",
       "        vertical-align: top;\n",
       "    }\n",
       "\n",
       "    .dataframe thead th {\n",
       "        text-align: right;\n",
       "    }\n",
       "</style>\n",
       "<table border=\"1\" class=\"dataframe\">\n",
       "  <thead>\n",
       "    <tr style=\"text-align: right;\">\n",
       "      <th></th>\n",
       "      <th>COUNT(*)</th>\n",
       "      <th>Producer</th>\n",
       "      <th>Rank</th>\n",
       "      <th>Incl</th>\n",
       "    </tr>\n",
       "  </thead>\n",
       "  <tbody>\n",
       "    <tr>\n",
       "      <th>0</th>\n",
       "      <td>469.0</td>\n",
       "      <td>ROADWAY INSURANCE INC #1</td>\n",
       "      <td>1</td>\n",
       "      <td>Y</td>\n",
       "    </tr>\n",
       "    <tr>\n",
       "      <th>1</th>\n",
       "      <td>361.0</td>\n",
       "      <td>EZ INSURANCE GROUP LLC</td>\n",
       "      <td>2</td>\n",
       "      <td>Y</td>\n",
       "    </tr>\n",
       "    <tr>\n",
       "      <th>2</th>\n",
       "      <td>297.0</td>\n",
       "      <td>JAMES BROWN INS AGENCY INC</td>\n",
       "      <td>5</td>\n",
       "      <td>Y</td>\n",
       "    </tr>\n",
       "    <tr>\n",
       "      <th>3</th>\n",
       "      <td>231.0</td>\n",
       "      <td>PINNING INS AGENCY INC #1</td>\n",
       "      <td>4</td>\n",
       "      <td>Y</td>\n",
       "    </tr>\n",
       "    <tr>\n",
       "      <th>4</th>\n",
       "      <td>172.0</td>\n",
       "      <td>RAMIREZ INSURANCE AGENCY INC</td>\n",
       "      <td>6</td>\n",
       "      <td>Y</td>\n",
       "    </tr>\n",
       "  </tbody>\n",
       "</table>\n",
       "</div>"
      ],
      "text/plain": [
       "   COUNT(*)                      Producer  Rank Incl\n",
       "0     469.0      ROADWAY INSURANCE INC #1     1    Y\n",
       "1     361.0        EZ INSURANCE GROUP LLC     2    Y\n",
       "2     297.0    JAMES BROWN INS AGENCY INC     5    Y\n",
       "3     231.0     PINNING INS AGENCY INC #1     4    Y\n",
       "4     172.0  RAMIREZ INSURANCE AGENCY INC     6    Y"
      ]
     },
     "execution_count": 22,
     "metadata": {},
     "output_type": "execute_result"
    }
   ],
   "source": [
    "df4.sort_values(by=['COUNT(*)'], ascending=False).head()"
   ]
  },
  {
   "cell_type": "code",
   "execution_count": 23,
   "metadata": {},
   "outputs": [
    {
     "data": {
      "text/html": [
       "<div>\n",
       "<style scoped>\n",
       "    .dataframe tbody tr th:only-of-type {\n",
       "        vertical-align: middle;\n",
       "    }\n",
       "\n",
       "    .dataframe tbody tr th {\n",
       "        vertical-align: top;\n",
       "    }\n",
       "\n",
       "    .dataframe thead th {\n",
       "        text-align: right;\n",
       "    }\n",
       "</style>\n",
       "<table border=\"1\" class=\"dataframe\">\n",
       "  <thead>\n",
       "    <tr style=\"text-align: right;\">\n",
       "      <th></th>\n",
       "      <th>Unnamed: 0</th>\n",
       "      <th>Weekly counts by Week</th>\n",
       "      <th>Change Quotes</th>\n",
       "      <th>Change NB Apps</th>\n",
       "      <th>Change RW Apps</th>\n",
       "      <th>Quotes</th>\n",
       "      <th>NB Apps</th>\n",
       "      <th>RW Apps</th>\n",
       "      <th>Quotes.1</th>\n",
       "      <th>NB Apps.1</th>\n",
       "      <th>...</th>\n",
       "      <th>Unnamed: 312</th>\n",
       "      <th>Unnamed: 313</th>\n",
       "      <th>Unnamed: 314</th>\n",
       "      <th>Unnamed: 315</th>\n",
       "      <th>Unnamed: 316</th>\n",
       "      <th>Unnamed: 317</th>\n",
       "      <th>Unnamed: 318</th>\n",
       "      <th>Unnamed: 319</th>\n",
       "      <th>Unnamed: 320</th>\n",
       "      <th>Unnamed: 321</th>\n",
       "    </tr>\n",
       "  </thead>\n",
       "  <tbody>\n",
       "    <tr>\n",
       "      <th>1</th>\n",
       "      <td>1.0</td>\n",
       "      <td>ROADWAY INSURANCE INC #1</td>\n",
       "      <td>-46.0</td>\n",
       "      <td>-8.0</td>\n",
       "      <td>6.0</td>\n",
       "      <td>469</td>\n",
       "      <td>60</td>\n",
       "      <td>48</td>\n",
       "      <td>515</td>\n",
       "      <td>68</td>\n",
       "      <td>...</td>\n",
       "      <td>49</td>\n",
       "      <td>54</td>\n",
       "      <td>49</td>\n",
       "      <td>19</td>\n",
       "      <td>31</td>\n",
       "      <td>39</td>\n",
       "      <td>27</td>\n",
       "      <td>54</td>\n",
       "      <td>55</td>\n",
       "      <td>51</td>\n",
       "    </tr>\n",
       "    <tr>\n",
       "      <th>2</th>\n",
       "      <td>2.0</td>\n",
       "      <td>EZ INSURANCE GROUP LLC</td>\n",
       "      <td>-47.0</td>\n",
       "      <td>0.0</td>\n",
       "      <td>-1.0</td>\n",
       "      <td>361</td>\n",
       "      <td>36</td>\n",
       "      <td>17</td>\n",
       "      <td>408</td>\n",
       "      <td>36</td>\n",
       "      <td>...</td>\n",
       "      <td>24</td>\n",
       "      <td>18</td>\n",
       "      <td>31</td>\n",
       "      <td>8</td>\n",
       "      <td>17</td>\n",
       "      <td>17</td>\n",
       "      <td>18</td>\n",
       "      <td>18</td>\n",
       "      <td>21</td>\n",
       "      <td>28</td>\n",
       "    </tr>\n",
       "    <tr>\n",
       "      <th>3</th>\n",
       "      <td>3.0</td>\n",
       "      <td>KEYSTONE INSURANCE AGENCY INC</td>\n",
       "      <td>-6.0</td>\n",
       "      <td>4.0</td>\n",
       "      <td>6.0</td>\n",
       "      <td>75</td>\n",
       "      <td>24</td>\n",
       "      <td>15</td>\n",
       "      <td>81</td>\n",
       "      <td>20</td>\n",
       "      <td>...</td>\n",
       "      <td>12</td>\n",
       "      <td>21</td>\n",
       "      <td>21</td>\n",
       "      <td>12</td>\n",
       "      <td>15</td>\n",
       "      <td>18</td>\n",
       "      <td>15</td>\n",
       "      <td>13</td>\n",
       "      <td>20</td>\n",
       "      <td>28</td>\n",
       "    </tr>\n",
       "    <tr>\n",
       "      <th>4</th>\n",
       "      <td>4.0</td>\n",
       "      <td>PINNING INS AGENCY INC #1</td>\n",
       "      <td>18.0</td>\n",
       "      <td>0.0</td>\n",
       "      <td>-6.0</td>\n",
       "      <td>231</td>\n",
       "      <td>27</td>\n",
       "      <td>5</td>\n",
       "      <td>213</td>\n",
       "      <td>27</td>\n",
       "      <td>...</td>\n",
       "      <td>15</td>\n",
       "      <td>18</td>\n",
       "      <td>7</td>\n",
       "      <td>12</td>\n",
       "      <td>13</td>\n",
       "      <td>13</td>\n",
       "      <td>6</td>\n",
       "      <td>17</td>\n",
       "      <td>22</td>\n",
       "      <td>17</td>\n",
       "    </tr>\n",
       "    <tr>\n",
       "      <th>5</th>\n",
       "      <td>5.0</td>\n",
       "      <td>JAMES BROWN INS AGENCY INC</td>\n",
       "      <td>74.0</td>\n",
       "      <td>-2.0</td>\n",
       "      <td>3.0</td>\n",
       "      <td>297</td>\n",
       "      <td>27</td>\n",
       "      <td>11</td>\n",
       "      <td>223</td>\n",
       "      <td>29</td>\n",
       "      <td>...</td>\n",
       "      <td>12</td>\n",
       "      <td>13</td>\n",
       "      <td>15</td>\n",
       "      <td>12</td>\n",
       "      <td>15</td>\n",
       "      <td>14</td>\n",
       "      <td>12</td>\n",
       "      <td>8</td>\n",
       "      <td>11</td>\n",
       "      <td>13</td>\n",
       "    </tr>\n",
       "  </tbody>\n",
       "</table>\n",
       "<p>5 rows × 322 columns</p>\n",
       "</div>"
      ],
      "text/plain": [
       "   Unnamed: 0          Weekly counts by Week  Change Quotes  Change NB Apps  \\\n",
       "1         1.0       ROADWAY INSURANCE INC #1          -46.0            -8.0   \n",
       "2         2.0         EZ INSURANCE GROUP LLC          -47.0             0.0   \n",
       "3         3.0  KEYSTONE INSURANCE AGENCY INC           -6.0             4.0   \n",
       "4         4.0      PINNING INS AGENCY INC #1           18.0             0.0   \n",
       "5         5.0     JAMES BROWN INS AGENCY INC           74.0            -2.0   \n",
       "\n",
       "   Change RW Apps Quotes NB Apps RW Apps Quotes.1 NB Apps.1     ...       \\\n",
       "1             6.0    469      60      48      515        68     ...        \n",
       "2            -1.0    361      36      17      408        36     ...        \n",
       "3             6.0     75      24      15       81        20     ...        \n",
       "4            -6.0    231      27       5      213        27     ...        \n",
       "5             3.0    297      27      11      223        29     ...        \n",
       "\n",
       "  Unnamed: 312 Unnamed: 313 Unnamed: 314 Unnamed: 315 Unnamed: 316  \\\n",
       "1           49           54           49           19           31   \n",
       "2           24           18           31            8           17   \n",
       "3           12           21           21           12           15   \n",
       "4           15           18            7           12           13   \n",
       "5           12           13           15           12           15   \n",
       "\n",
       "  Unnamed: 317 Unnamed: 318 Unnamed: 319 Unnamed: 320 Unnamed: 321  \n",
       "1           39           27           54           55           51  \n",
       "2           17           18           18           21           28  \n",
       "3           18           15           13           20           28  \n",
       "4           13            6           17           22           17  \n",
       "5           14           12            8           11           13  \n",
       "\n",
       "[5 rows x 322 columns]"
      ]
     },
     "execution_count": 23,
     "metadata": {},
     "output_type": "execute_result"
    }
   ],
   "source": [
    "df5 = pd.read_excel(r\"C:\\Users\\pa173\\Documents\\Communications\\Weekly NB and RW Apps and FQ.xlsx\", sheet_name='By Producer Weekly Counts', index=False, skiprows= 9)\n",
    "df5 = df5.drop(index=0)\n",
    "df5.head()"
   ]
  },
  {
   "attachments": {},
   "cell_type": "markdown",
   "metadata": {},
   "source": [
    "too many columns, let's remove some old ones"
   ]
  },
  {
   "cell_type": "code",
   "execution_count": 24,
   "metadata": {},
   "outputs": [
    {
     "data": {
      "text/html": [
       "<div>\n",
       "<style scoped>\n",
       "    .dataframe tbody tr th:only-of-type {\n",
       "        vertical-align: middle;\n",
       "    }\n",
       "\n",
       "    .dataframe tbody tr th {\n",
       "        vertical-align: top;\n",
       "    }\n",
       "\n",
       "    .dataframe thead th {\n",
       "        text-align: right;\n",
       "    }\n",
       "</style>\n",
       "<table border=\"1\" class=\"dataframe\">\n",
       "  <thead>\n",
       "    <tr style=\"text-align: right;\">\n",
       "      <th></th>\n",
       "      <th>Producer</th>\n",
       "      <th>Change Quotes</th>\n",
       "      <th>Change NB Apps</th>\n",
       "      <th>Change RW Apps</th>\n",
       "      <th>Quotes</th>\n",
       "      <th>NB Apps</th>\n",
       "      <th>RW Apps</th>\n",
       "      <th>Quotes.1</th>\n",
       "      <th>NB Apps.1</th>\n",
       "    </tr>\n",
       "  </thead>\n",
       "  <tbody>\n",
       "    <tr>\n",
       "      <th>1</th>\n",
       "      <td>ROADWAY INSURANCE INC #1</td>\n",
       "      <td>-46.0</td>\n",
       "      <td>-8.0</td>\n",
       "      <td>6.0</td>\n",
       "      <td>469</td>\n",
       "      <td>60</td>\n",
       "      <td>48</td>\n",
       "      <td>515</td>\n",
       "      <td>68</td>\n",
       "    </tr>\n",
       "    <tr>\n",
       "      <th>2</th>\n",
       "      <td>EZ INSURANCE GROUP LLC</td>\n",
       "      <td>-47.0</td>\n",
       "      <td>0.0</td>\n",
       "      <td>-1.0</td>\n",
       "      <td>361</td>\n",
       "      <td>36</td>\n",
       "      <td>17</td>\n",
       "      <td>408</td>\n",
       "      <td>36</td>\n",
       "    </tr>\n",
       "    <tr>\n",
       "      <th>3</th>\n",
       "      <td>KEYSTONE INSURANCE AGENCY INC</td>\n",
       "      <td>-6.0</td>\n",
       "      <td>4.0</td>\n",
       "      <td>6.0</td>\n",
       "      <td>75</td>\n",
       "      <td>24</td>\n",
       "      <td>15</td>\n",
       "      <td>81</td>\n",
       "      <td>20</td>\n",
       "    </tr>\n",
       "    <tr>\n",
       "      <th>4</th>\n",
       "      <td>PINNING INS AGENCY INC #1</td>\n",
       "      <td>18.0</td>\n",
       "      <td>0.0</td>\n",
       "      <td>-6.0</td>\n",
       "      <td>231</td>\n",
       "      <td>27</td>\n",
       "      <td>5</td>\n",
       "      <td>213</td>\n",
       "      <td>27</td>\n",
       "    </tr>\n",
       "    <tr>\n",
       "      <th>5</th>\n",
       "      <td>JAMES BROWN INS AGENCY INC</td>\n",
       "      <td>74.0</td>\n",
       "      <td>-2.0</td>\n",
       "      <td>3.0</td>\n",
       "      <td>297</td>\n",
       "      <td>27</td>\n",
       "      <td>11</td>\n",
       "      <td>223</td>\n",
       "      <td>29</td>\n",
       "    </tr>\n",
       "  </tbody>\n",
       "</table>\n",
       "</div>"
      ],
      "text/plain": [
       "                        Producer  Change Quotes  Change NB Apps  \\\n",
       "1       ROADWAY INSURANCE INC #1          -46.0            -8.0   \n",
       "2         EZ INSURANCE GROUP LLC          -47.0             0.0   \n",
       "3  KEYSTONE INSURANCE AGENCY INC           -6.0             4.0   \n",
       "4      PINNING INS AGENCY INC #1           18.0             0.0   \n",
       "5     JAMES BROWN INS AGENCY INC           74.0            -2.0   \n",
       "\n",
       "   Change RW Apps Quotes NB Apps RW Apps Quotes.1 NB Apps.1  \n",
       "1             6.0    469      60      48      515        68  \n",
       "2            -1.0    361      36      17      408        36  \n",
       "3             6.0     75      24      15       81        20  \n",
       "4            -6.0    231      27       5      213        27  \n",
       "5             3.0    297      27      11      223        29  "
      ]
     },
     "execution_count": 24,
     "metadata": {},
     "output_type": "execute_result"
    }
   ],
   "source": [
    "df5 = df5.iloc[:, 1:10]\n",
    "df5= df5.rename(columns = {'Weekly counts by Week': 'Producer'})\n",
    "df5.head()"
   ]
  },
  {
   "attachments": {},
   "cell_type": "markdown",
   "metadata": {},
   "source": [
    "Checking if both columns match"
   ]
  },
  {
   "cell_type": "code",
   "execution_count": 25,
   "metadata": {},
   "outputs": [
    {
     "name": "stdout",
     "output_type": "stream",
     "text": [
      "Number of true values: 950\n",
      "Number of false values: 0\n"
     ]
    }
   ],
   "source": [
    "true_count = (df4['Producer'].isin(df5['Producer'])).sum()\n",
    "false_count = (df4['Producer'].isin(df5['Producer'])==False).sum()\n",
    "print(\"Number of true values:\", true_count)\n",
    "print(\"Number of false values:\", false_count)\n"
   ]
  },
  {
   "attachments": {},
   "cell_type": "markdown",
   "metadata": {},
   "source": [
    "make a new dataframe for report"
   ]
  },
  {
   "cell_type": "code",
   "execution_count": 26,
   "metadata": {},
   "outputs": [
    {
     "data": {
      "text/html": [
       "<div>\n",
       "<style scoped>\n",
       "    .dataframe tbody tr th:only-of-type {\n",
       "        vertical-align: middle;\n",
       "    }\n",
       "\n",
       "    .dataframe tbody tr th {\n",
       "        vertical-align: top;\n",
       "    }\n",
       "\n",
       "    .dataframe thead th {\n",
       "        text-align: right;\n",
       "    }\n",
       "</style>\n",
       "<table border=\"1\" class=\"dataframe\">\n",
       "  <thead>\n",
       "    <tr style=\"text-align: right;\">\n",
       "      <th></th>\n",
       "      <th>Producer</th>\n",
       "      <th>Change Quotes</th>\n",
       "      <th>Change NB Apps</th>\n",
       "      <th>Change RW Apps</th>\n",
       "      <th>Quotes</th>\n",
       "      <th>NB Apps</th>\n",
       "      <th>RW Apps</th>\n",
       "      <th>Quotes.1</th>\n",
       "      <th>NB Apps.1</th>\n",
       "      <th>COUNT(*)</th>\n",
       "      <th>Rank</th>\n",
       "      <th>Incl</th>\n",
       "    </tr>\n",
       "  </thead>\n",
       "  <tbody>\n",
       "    <tr>\n",
       "      <th>0</th>\n",
       "      <td>ROADWAY INSURANCE INC #1</td>\n",
       "      <td>-46.0</td>\n",
       "      <td>-8.0</td>\n",
       "      <td>6.0</td>\n",
       "      <td>469</td>\n",
       "      <td>60</td>\n",
       "      <td>48</td>\n",
       "      <td>515</td>\n",
       "      <td>68</td>\n",
       "      <td>469.0</td>\n",
       "      <td>1</td>\n",
       "      <td>Y</td>\n",
       "    </tr>\n",
       "    <tr>\n",
       "      <th>1</th>\n",
       "      <td>EZ INSURANCE GROUP LLC</td>\n",
       "      <td>-47.0</td>\n",
       "      <td>0.0</td>\n",
       "      <td>-1.0</td>\n",
       "      <td>361</td>\n",
       "      <td>36</td>\n",
       "      <td>17</td>\n",
       "      <td>408</td>\n",
       "      <td>36</td>\n",
       "      <td>361.0</td>\n",
       "      <td>2</td>\n",
       "      <td>Y</td>\n",
       "    </tr>\n",
       "    <tr>\n",
       "      <th>2</th>\n",
       "      <td>KEYSTONE INSURANCE AGENCY INC</td>\n",
       "      <td>-6.0</td>\n",
       "      <td>4.0</td>\n",
       "      <td>6.0</td>\n",
       "      <td>75</td>\n",
       "      <td>24</td>\n",
       "      <td>15</td>\n",
       "      <td>81</td>\n",
       "      <td>20</td>\n",
       "      <td>75.0</td>\n",
       "      <td>3</td>\n",
       "      <td>Y</td>\n",
       "    </tr>\n",
       "    <tr>\n",
       "      <th>3</th>\n",
       "      <td>PINNING INS AGENCY INC #1</td>\n",
       "      <td>18.0</td>\n",
       "      <td>0.0</td>\n",
       "      <td>-6.0</td>\n",
       "      <td>231</td>\n",
       "      <td>27</td>\n",
       "      <td>5</td>\n",
       "      <td>213</td>\n",
       "      <td>27</td>\n",
       "      <td>231.0</td>\n",
       "      <td>4</td>\n",
       "      <td>Y</td>\n",
       "    </tr>\n",
       "    <tr>\n",
       "      <th>4</th>\n",
       "      <td>JAMES BROWN INS AGENCY INC</td>\n",
       "      <td>74.0</td>\n",
       "      <td>-2.0</td>\n",
       "      <td>3.0</td>\n",
       "      <td>297</td>\n",
       "      <td>27</td>\n",
       "      <td>11</td>\n",
       "      <td>223</td>\n",
       "      <td>29</td>\n",
       "      <td>297.0</td>\n",
       "      <td>5</td>\n",
       "      <td>Y</td>\n",
       "    </tr>\n",
       "  </tbody>\n",
       "</table>\n",
       "</div>"
      ],
      "text/plain": [
       "                        Producer  Change Quotes  Change NB Apps  \\\n",
       "0       ROADWAY INSURANCE INC #1          -46.0            -8.0   \n",
       "1         EZ INSURANCE GROUP LLC          -47.0             0.0   \n",
       "2  KEYSTONE INSURANCE AGENCY INC           -6.0             4.0   \n",
       "3      PINNING INS AGENCY INC #1           18.0             0.0   \n",
       "4     JAMES BROWN INS AGENCY INC           74.0            -2.0   \n",
       "\n",
       "   Change RW Apps Quotes NB Apps RW Apps Quotes.1 NB Apps.1  COUNT(*)  Rank  \\\n",
       "0             6.0    469      60      48      515        68     469.0     1   \n",
       "1            -1.0    361      36      17      408        36     361.0     2   \n",
       "2             6.0     75      24      15       81        20      75.0     3   \n",
       "3            -6.0    231      27       5      213        27     231.0     4   \n",
       "4             3.0    297      27      11      223        29     297.0     5   \n",
       "\n",
       "  Incl  \n",
       "0    Y  \n",
       "1    Y  \n",
       "2    Y  \n",
       "3    Y  \n",
       "4    Y  "
      ]
     },
     "execution_count": 26,
     "metadata": {},
     "output_type": "execute_result"
    }
   ],
   "source": [
    "df6 = pd.merge(left = df5, right = df4, left_on='Producer', right_on='Producer')\n",
    "df6.head()"
   ]
  },
  {
   "attachments": {},
   "cell_type": "markdown",
   "metadata": {},
   "source": [
    "count is still good"
   ]
  },
  {
   "cell_type": "code",
   "execution_count": 31,
   "metadata": {},
   "outputs": [
    {
     "data": {
      "text/plain": [
       "0    469.0\n",
       "1    361.0\n",
       "4    297.0\n",
       "3    231.0\n",
       "5    172.0\n",
       "Name: COUNT(*), dtype: float64"
      ]
     },
     "execution_count": 31,
     "metadata": {},
     "output_type": "execute_result"
    }
   ],
   "source": [
    "df6['COUNT(*)'].sort_values(ascending=False).head()"
   ]
  },
  {
   "attachments": {},
   "cell_type": "markdown",
   "metadata": {},
   "source": [
    "starting report"
   ]
  },
  {
   "cell_type": "code",
   "execution_count": 28,
   "metadata": {},
   "outputs": [],
   "source": [
    "#df6.to_excel(r\"C:\\Users\\pa173\\Documents\\Python\\Weekly Report\\df6.xlsx\", index=False)"
   ]
  }
 ],
 "metadata": {
  "kernelspec": {
   "display_name": "Python 3",
   "language": "python",
   "name": "python3"
  },
  "language_info": {
   "codemirror_mode": {
    "name": "ipython",
    "version": 3
   },
   "file_extension": ".py",
   "mimetype": "text/x-python",
   "name": "python",
   "nbconvert_exporter": "python",
   "pygments_lexer": "ipython3",
   "version": "3.7.1"
  },
  "orig_nbformat": 4,
  "vscode": {
   "interpreter": {
    "hash": "7dd15e51a4470d085f7a243fb04650bc4fe166c7b9d4ae5b8d1a77af89f8b74e"
   }
  }
 },
 "nbformat": 4,
 "nbformat_minor": 2
}
